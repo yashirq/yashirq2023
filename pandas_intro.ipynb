{
 "cells": [
  {
   "cell_type": "code",
   "execution_count": 1,
   "id": "75598e7d",
   "metadata": {},
   "outputs": [],
   "source": [
    "import pandas as pd\n",
    "import numpy as np"
   ]
  },
  {
   "cell_type": "markdown",
   "id": "52e38875",
   "metadata": {},
   "source": [
    "A **Series** is a one-dimensional labeled array that can hold any data type (integers, strings, floating points, Python objects, etc.). The axis labels are collectively referred to as the index. A Series is somewhat similar to a dictionary in that you can access the elements by their labels."
   ]
  },
  {
   "cell_type": "code",
   "execution_count": 25,
   "id": "8992b49c",
   "metadata": {},
   "outputs": [
    {
     "name": "stdout",
     "output_type": "stream",
     "text": [
      "The data1 series is: \n",
      " 1    10\n",
      "2    11\n",
      "3    12\n",
      "9    13\n",
      "5    14\n",
      "dtype: int64\n",
      "\n",
      "The value of the data1 series is :\n",
      " [ 1.  3.  5. nan  6.  8.]\n",
      "\n",
      "The index of the data1 series is :\n",
      " RangeIndex(start=0, stop=6, step=1)\n"
     ]
    }
   ],
   "source": [
    "data1 = pd.Series([1, 3, 5, np.nan, 6, 8])\n",
    "print(\"The data1 series is: \\n\", data)\n",
    "print()\n",
    "print(\"The value of the data1 series is :\\n\", data1.values)\n",
    "print()\n",
    "print(\"The index of the data1 series is :\\n\", data1.index)"
   ]
  },
  {
   "cell_type": "code",
   "execution_count": 27,
   "id": "aa76f3f3",
   "metadata": {},
   "outputs": [
    {
     "name": "stdout",
     "output_type": "stream",
     "text": [
      "one      1\n",
      "two      2\n",
      "three    3\n",
      "four     4\n",
      "five     5\n",
      "dtype: int64\n"
     ]
    }
   ],
   "source": [
    "# Create a series with a dictionary\n",
    "data2 = {\"one\": 1, \"two\": 2, \"three\": 3, \"four\": 4, \"five\": 5}\n",
    "data_series2 = pd.Series(data2)\n",
    "print(data_series2)"
   ]
  },
  {
   "cell_type": "markdown",
   "id": "fa9283d5",
   "metadata": {},
   "source": [
    "### Explicit indexing / Label-based indexing\n",
    "Explicit indexing allows you to assign a custom label (which could be a number, a string, or even a datetime) to each data element."
   ]
  },
  {
   "cell_type": "code",
   "execution_count": 28,
   "id": "2566ff93",
   "metadata": {},
   "outputs": [
    {
     "name": "stdout",
     "output_type": "stream",
     "text": [
      "2      two\n",
      "1      one\n",
      "3    three\n",
      "dtype: object\n"
     ]
    }
   ],
   "source": [
    "# Create a pandas Series from a dictionary, and specify an index for the series.\n",
    "data3 = {4: \"four\", 5: \"five\", 1: \"one\", 3: \"three\", 2: \"two\"}\n",
    "data_series3 = pd.Series(data3, index=[2, 1, 3])\n",
    "print(data_series3)"
   ]
  },
  {
   "cell_type": "code",
   "execution_count": 3,
   "id": "6d7a7d07",
   "metadata": {},
   "outputs": [
    {
     "name": "stdout",
     "output_type": "stream",
     "text": [
      "data4.values =  [10 11 12 13 14]\n",
      "<class 'numpy.ndarray'>\n",
      "\n",
      "data4.indexs =  Index([1, 2, 3, 9, 5], dtype='int64')\n",
      "<class 'pandas.core.indexes.base.Index'>\n"
     ]
    }
   ],
   "source": [
    "data4 = pd.Series([10, 11, 12, 13, 14], index=[1,2,3,9,5])\n",
    "\n",
    "print(\"data4.values = \", data4.values)\n",
    "print(type(data4.values))\n",
    "print()\n",
    "print(\"data4.indexs = \", data4.index)\n",
    "print(type(data4.index))"
   ]
  },
  {
   "cell_type": "code",
   "execution_count": 30,
   "id": "f9e72784",
   "metadata": {},
   "outputs": [
    {
     "name": "stdout",
     "output_type": "stream",
     "text": [
      "10\n"
     ]
    }
   ],
   "source": [
    "print(data4[1])"
   ]
  },
  {
   "cell_type": "code",
   "execution_count": 31,
   "id": "d3ce5bad",
   "metadata": {},
   "outputs": [
    {
     "name": "stdout",
     "output_type": "stream",
     "text": [
      "1    10\n",
      "2    11\n",
      "3    12\n",
      "9    13\n",
      "5    14\n",
      "dtype: int64\n"
     ]
    }
   ],
   "source": [
    "print(data4[:9])"
   ]
  },
  {
   "cell_type": "code",
   "execution_count": 4,
   "id": "2937ed34",
   "metadata": {},
   "outputs": [
    {
     "name": "stdout",
     "output_type": "stream",
     "text": [
      "1    10\n",
      "2    11\n",
      "3    12\n",
      "9    13\n",
      "dtype: int64\n"
     ]
    }
   ],
   "source": [
    "print(data4[:4])"
   ]
  },
  {
   "cell_type": "code",
   "execution_count": 6,
   "id": "954c3e48",
   "metadata": {},
   "outputs": [
    {
     "name": "stdout",
     "output_type": "stream",
     "text": [
      "data5[32] =  11\n",
      "data5[:1] =  54    10\n",
      "dtype: int64\n"
     ]
    }
   ],
   "source": [
    "data5 = pd.Series([10, 11, 12, 13, 14], index=[54, 32, 2, 1, 9])\n",
    "print(\"data5[32] = \", data5[32])\n",
    "print(\"data5[:1] = \", data5[:1])"
   ]
  },
  {
   "cell_type": "code",
   "execution_count": 2,
   "id": "c347e049",
   "metadata": {},
   "outputs": [
    {
     "name": "stdout",
     "output_type": "stream",
     "text": [
      "one      1\n",
      "two      2\n",
      "three    3\n",
      "four     4\n",
      "five     5\n",
      "dtype: int64\n"
     ]
    }
   ],
   "source": [
    "# String as explicit index\n",
    "data6 = {\"one\": 1, \"two\": 2, \"three\": 3, \"four\": 4, \"five\": 5}\n",
    "data_series6 = pd.Series(data6)\n",
    "print(data_series6)"
   ]
  },
  {
   "cell_type": "code",
   "execution_count": 3,
   "id": "f691f78a",
   "metadata": {},
   "outputs": [
    {
     "name": "stdout",
     "output_type": "stream",
     "text": [
      "data_series6['four'] =  4\n"
     ]
    }
   ],
   "source": [
    "print(\"data_series6['four'] = \", data_series6['four'])"
   ]
  },
  {
   "cell_type": "code",
   "execution_count": 6,
   "id": "d632f1a3",
   "metadata": {},
   "outputs": [
    {
     "name": "stdout",
     "output_type": "stream",
     "text": [
      "data_series6[:'four'] = \n",
      " one      1\n",
      "two      2\n",
      "three    3\n",
      "four     4\n",
      "dtype: int64\n"
     ]
    }
   ],
   "source": [
    "print(\"data_series6[:'four'] = \\n\", data_series6[:'four'])"
   ]
  },
  {
   "cell_type": "markdown",
   "id": "ad64f43b",
   "metadata": {},
   "source": [
    "### Locator\n",
    "`loc` is a label-based data selection method which means that we have to pass the name of the row or column which we want to access. This method includes the last element of the range passed in it, unlike python and iloc function. It can accept the boolean data, it means we can pass the condition based series of boolean to get the filtered data."
   ]
  },
  {
   "cell_type": "code",
   "execution_count": 10,
   "id": "79bbb124",
   "metadata": {},
   "outputs": [
    {
     "name": "stdout",
     "output_type": "stream",
     "text": [
      "data7 = \n",
      " 3    10\n",
      "5    11\n",
      "7    12\n",
      "9    13\n",
      "1    14\n",
      "dtype: int64\n",
      "\n",
      "data7.loc[3] =  10\n",
      "\n",
      "data7.loc[3:9] = \n",
      " 3    10\n",
      "5    11\n",
      "7    12\n",
      "9    13\n",
      "dtype: int64\n"
     ]
    }
   ],
   "source": [
    "data7 = pd.Series([10, 11, 12, 13, 14], index=[3, 5, 7, 9, 1])\n",
    "print(\"data7 = \\n\", data7)\n",
    "print()\n",
    "print(\"data7.loc[3] = \", data7.loc[3])\n",
    "print()\n",
    "print(\"data7.loc[3:9] = \\n\", data7.loc[3:9])"
   ]
  },
  {
   "cell_type": "markdown",
   "id": "71c3c56d",
   "metadata": {},
   "source": [
    "`iloc` is an integer index-based method which means that we have to pass integer index in the method to access a specific row/column. This method does not include the last element of the range."
   ]
  },
  {
   "cell_type": "code",
   "execution_count": 11,
   "id": "cc760c59",
   "metadata": {},
   "outputs": [
    {
     "name": "stdout",
     "output_type": "stream",
     "text": [
      "data8 = \n",
      " 3    10\n",
      "5    11\n",
      "7    12\n",
      "9    13\n",
      "1    14\n",
      "dtype: int64\n",
      "\n",
      "data8.iloc[3] =  13\n",
      "\n",
      "data8.iloc[3:9] = \n",
      " 9    13\n",
      "1    14\n",
      "dtype: int64\n"
     ]
    }
   ],
   "source": [
    "data8 = pd.Series([10, 11, 12, 13, 14], index=[3, 5, 7, 9, 1])\n",
    "print(\"data8 = \\n\", data8)\n",
    "print()\n",
    "print(\"data8.iloc[3] = \", data8.iloc[3])\n",
    "print()\n",
    "print(\"data8.iloc[3:9] = \\n\", data8.iloc[3:9])"
   ]
  },
  {
   "cell_type": "markdown",
   "id": "7db8d974",
   "metadata": {},
   "source": [
    "### DataFrame"
   ]
  },
  {
   "cell_type": "markdown",
   "id": "2e3cee9e",
   "metadata": {},
   "source": [
    "A DataFrame is a two-dimensional, size-mutable, potentially heterogeneous tabular data structure with labeled axes (rows and columns). It's similar to a spreadsheet, a SQL table, or the data.frame in R.\n",
    "\n",
    "Here are some key characteristics of a DataFrame:\n",
    "\n",
    "**Two-dimensional**: DataFrames are two-dimensional in the sense that data is aligned in a tabular fashion in rows and columns.\n",
    "\n",
    "**Size Mutable**: The size of DataFrame is mutable, or changeable. You can add more rows or columns to a DataFrame, or you can delete existing rows or columns.\n",
    "\n",
    "**Potentially Heterogeneous**: A DataFrame can contain data of different types. For example, one column can be of integer type, another column can be of boolean type, and so on.\n",
    "\n",
    "**Labeled Axes**: The rows and columns of a DataFrame are labeled, which means that they can be referred to by their labels instead of their position indices."
   ]
  },
  {
   "cell_type": "code",
   "execution_count": 14,
   "id": "ddc5af1c",
   "metadata": {},
   "outputs": [
    {
     "name": "stdout",
     "output_type": "stream",
     "text": [
      "    Name  Age  Country\n",
      "0   John   28      USA\n",
      "1   Anna   24   Canada\n",
      "2  Peter   33  Germany\n"
     ]
    }
   ],
   "source": [
    "data9 = {\n",
    "    'Name': ['John', 'Anna', 'Peter'],\n",
    "    'Age': [28, 24, 33],\n",
    "    'Country': ['USA', 'Canada', 'Germany']\n",
    "}\n",
    "\n",
    "df9 = pd.DataFrame(data9)\n",
    "\n",
    "print(df9)"
   ]
  },
  {
   "cell_type": "code",
   "execution_count": 16,
   "id": "3365ece4",
   "metadata": {},
   "outputs": [
    {
     "name": "stdout",
     "output_type": "stream",
     "text": [
      "data_series7 = \n",
      " 0    1\n",
      "1    2\n",
      "2    3\n",
      "3    4\n",
      "4    5\n",
      "dtype: int64\n",
      "\n",
      "df10 = \n",
      "    digits\n",
      "0       1\n",
      "1       2\n",
      "2       3\n",
      "3       4\n",
      "4       5\n"
     ]
    }
   ],
   "source": [
    "# Create a dataframe with a series\n",
    "data_series7 = pd.Series([1, 2, 3, 4, 5])\n",
    "print(\"data_series7 = \\n\", data_series7)\n",
    "print()\n",
    "df10 = pd.DataFrame(data_series7, columns=['digits'])\n",
    "print(\"df10 = \\n\", df10)"
   ]
  },
  {
   "cell_type": "code",
   "execution_count": 22,
   "id": "9d8597b1",
   "metadata": {},
   "outputs": [
    {
     "name": "stdout",
     "output_type": "stream",
     "text": [
      "dict =  [{'Ones': 1, 'Tens': 10, 'Hundreds': 100}, {'Ones': 2, 'Tens': 20, 'Hundreds': 200}, {'Ones': 3, 'Tens': 30, 'Hundreds': 300}, {'Ones': 4, 'Tens': 40, 'Hundreds': 400}]\n",
      "\n",
      "df11 = \n",
      "    Ones  Tens  Hundreds\n",
      "0     1    10       100\n",
      "1     2    20       200\n",
      "2     3    30       300\n",
      "3     4    40       400\n"
     ]
    }
   ],
   "source": [
    "# Create a dataframe with a dictionary\n",
    "dict11 = [{\"Ones\": i, \"Tens\": i*10, \"Hundreds\": i*100} for i in range(1, 5)]\n",
    "print(\"dict = \", dict11)\n",
    "print()\n",
    "df11 = pd.DataFrame(dict11)\n",
    "print(\"df11 = \\n\", df11)"
   ]
  },
  {
   "cell_type": "code",
   "execution_count": 24,
   "id": "9d291e15",
   "metadata": {},
   "outputs": [
    {
     "name": "stdout",
     "output_type": "stream",
     "text": [
      "df12 = \n",
      "      a    b    c    d\n",
      "0  1.0  1.0  NaN  NaN\n",
      "1  NaN  2.0  2.0  NaN\n",
      "2  NaN  NaN  3.0  3.0\n"
     ]
    }
   ],
   "source": [
    "# Creating a DataFrame from a list of dictionaries, with each dictionary corresponding to a row. \n",
    "# In cases where a key (column name) is absent in a dictionary, pandas fills in with NaN for that cell.\n",
    "dict12 = [{\"a\": 1, \"b\": 1}, {\"b\": 2, \"c\": 2}, {\"c\": 3, \"d\": 3}]\n",
    "df12 = pd.DataFrame(dict12)\n",
    "print(\"df12 = \\n\", df12)"
   ]
  },
  {
   "cell_type": "code",
   "execution_count": 25,
   "id": "0d270360",
   "metadata": {},
   "outputs": [
    {
     "name": "stdout",
     "output_type": "stream",
     "text": [
      "df13 = \n",
      "    Ones  Tens\n",
      "1   1.0   NaN\n",
      "2   2.0   NaN\n",
      "3   3.0  10.0\n",
      "4   4.0  20.0\n",
      "5   5.0  30.0\n",
      "6   NaN  40.0\n",
      "7   NaN  50.0\n"
     ]
    }
   ],
   "source": [
    "# Create a dataframe with a series\n",
    "data_series8 = pd.Series([i for i in range(1, 6)], index=[1, 2, 3, 4, 5])\n",
    "data_series9 = pd.Series([i*10 for i in range(1, 6)], index=[3, 4, 5, 6, 7])\n",
    "df13 = pd.DataFrame({\"Ones\": data_series8, \"Tens\": data_series9})\n",
    "print(\"df13 = \\n\", df13)"
   ]
  },
  {
   "cell_type": "code",
   "execution_count": 26,
   "id": "9f806424",
   "metadata": {},
   "outputs": [
    {
     "name": "stdout",
     "output_type": "stream",
     "text": [
      "df14 = \n",
      "          A    B    C\n",
      "one    0.0  0.0  0.0\n",
      "two    0.0  0.0  0.0\n",
      "three  0.0  0.0  0.0\n",
      "four   0.0  0.0  0.0\n",
      "five   0.0  0.0  0.0\n"
     ]
    }
   ],
   "source": [
    "# Create a dataframe with a two dimensional numpy array\n",
    "df14 = pd.DataFrame(np.zeros([5, 3]),\n",
    "                   columns = [\"A\", \"B\", \"C\"],\n",
    "                   index = [\"one\", \"two\", \"three\", \"four\", \"five\"])\n",
    "print(\"df14 = \\n\", df14)"
   ]
  },
  {
   "cell_type": "markdown",
   "id": "0eee411b",
   "metadata": {},
   "source": [
    "### Index"
   ]
  },
  {
   "cell_type": "code",
   "execution_count": 27,
   "id": "fb950281",
   "metadata": {},
   "outputs": [
    {
     "name": "stdout",
     "output_type": "stream",
     "text": [
      "idx =  Index([2, 4, 6, 8, 10], dtype='int64')\n",
      "idx[1:4] =  Index([4, 6, 8], dtype='int64')\n",
      "idx.size =  5\n",
      "idx.shape =  (5,)\n",
      "idx.ndim =  1\n",
      "idx.dtype =  int64\n"
     ]
    }
   ],
   "source": [
    "# Index is immutable array\n",
    "idx = pd.Index([2, 4, 6, 8, 10])\n",
    "print(\"idx = \", idx)\n",
    "print(\"idx[1:4] = \", idx[1:4])\n",
    "print(\"idx.size = \", idx.size)\n",
    "print(\"idx.shape = \", idx.shape)\n",
    "print(\"idx.ndim = \", idx.ndim)\n",
    "print(\"idx.dtype = \", idx.dtype)"
   ]
  },
  {
   "cell_type": "code",
   "execution_count": 30,
   "id": "ebc52e09",
   "metadata": {},
   "outputs": [
    {
     "name": "stdout",
     "output_type": "stream",
     "text": [
      "idx_1 & idx_2 =  Index([6, 7], dtype='int64')\n",
      "idx_1 | idx_2 =  Index([1, 2, 3, 4, 5, 6, 7, 8, 9], dtype='int64')\n",
      "idx_1 ^ idx_2 =  Index([1, 2, 3, 4, 5, 8, 9], dtype='int64')\n"
     ]
    }
   ],
   "source": [
    "idx_1 = pd.Index([1, 3, 5, 6, 7,])\n",
    "idx_2 = pd.Index([2, 4, 6, 7, 8, 9])\n",
    "\n",
    "print(\"idx_1 & idx_2 = \", pd.Index(set(idx_1) & set(idx_2)))\n",
    "print(\"idx_1 | idx_2 = \", pd.Index(set(idx_1) | set(idx_2)))\n",
    "print(\"idx_1 ^ idx_2 = \", pd.Index(set(idx_1) ^ set(idx_2)))"
   ]
  },
  {
   "cell_type": "code",
   "execution_count": null,
   "id": "cf27921a",
   "metadata": {},
   "outputs": [],
   "source": []
  }
 ],
 "metadata": {
  "kernelspec": {
   "display_name": "Python 3 (ipykernel)",
   "language": "python",
   "name": "python3"
  },
  "language_info": {
   "codemirror_mode": {
    "name": "ipython",
    "version": 3
   },
   "file_extension": ".py",
   "mimetype": "text/x-python",
   "name": "python",
   "nbconvert_exporter": "python",
   "pygments_lexer": "ipython3",
   "version": "3.10.11"
  }
 },
 "nbformat": 4,
 "nbformat_minor": 5
}
