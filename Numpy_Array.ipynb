{
 "cells": [
  {
   "cell_type": "markdown",
   "id": "7430d78f",
   "metadata": {},
   "source": [
    "# Introduction"
   ]
  },
  {
   "cell_type": "code",
   "execution_count": 1,
   "id": "66f131a1",
   "metadata": {},
   "outputs": [],
   "source": [
    "import numpy as np"
   ]
  },
  {
   "cell_type": "code",
   "execution_count": 25,
   "id": "ef5b6c47",
   "metadata": {},
   "outputs": [
    {
     "name": "stdout",
     "output_type": "stream",
     "text": [
      "a1=  [ 1  2  3  4  5  6  7  8  9 10]\n"
     ]
    }
   ],
   "source": [
    "a1 = np.arange(1, 11)\n",
    "print(\"a1= \", a1)"
   ]
  },
  {
   "cell_type": "code",
   "execution_count": 27,
   "id": "27acdaff",
   "metadata": {},
   "outputs": [
    {
     "name": "stdout",
     "output_type": "stream",
     "text": [
      "a1[:-6:-1] =  [10  9  8  7  6]\n"
     ]
    }
   ],
   "source": [
    "print(\"a1[:-6:-1] = \", a1[:-6:-1])"
   ]
  },
  {
   "cell_type": "markdown",
   "id": "f8f773d0",
   "metadata": {},
   "source": [
    "In this case, the start value is not specified, so it defaults to the end of the list because the step value is negative."
   ]
  },
  {
   "cell_type": "code",
   "execution_count": 28,
   "id": "ff2636ba",
   "metadata": {},
   "outputs": [
    {
     "name": "stdout",
     "output_type": "stream",
     "text": [
      "a2 =  \n",
      " [[9 1 4 6 1]\n",
      " [4 7 4 7 0]\n",
      " [1 6 1 0 2]]\n"
     ]
    }
   ],
   "source": [
    "a2 = np.random.randint(10, size=(3, 5))\n",
    "print(\"a2 = \", \"\\n\", a2)"
   ]
  },
  {
   "cell_type": "markdown",
   "id": "5a29c327",
   "metadata": {},
   "source": [
    "`np.random.randint(10, ...)` generates random integers from 0 (inclusive) up to 10 (exclusive). So, the possible random numbers are 0, 1, 2, ..., 9.\n",
    "\n",
    "`size=(3, 5)` is an optional argument that specifies the shape of the output array. Here, it's creating a 2-dimensional array with 3 rows and 5 columns."
   ]
  },
  {
   "cell_type": "code",
   "execution_count": 29,
   "id": "1c869278",
   "metadata": {},
   "outputs": [
    {
     "name": "stdout",
     "output_type": "stream",
     "text": [
      "[[4 7 4 7 0]\n",
      " [1 6 1 0 2]]\n"
     ]
    }
   ],
   "source": [
    "print(a2[1:])"
   ]
  },
  {
   "cell_type": "code",
   "execution_count": 30,
   "id": "6687aec7",
   "metadata": {
    "scrolled": true
   },
   "outputs": [
    {
     "name": "stdout",
     "output_type": "stream",
     "text": [
      "[[4 7 4 7 0]\n",
      " [1 6 1 0 2]]\n"
     ]
    }
   ],
   "source": [
    "print(a2[1: 4])"
   ]
  },
  {
   "cell_type": "markdown",
   "id": "afd515d7",
   "metadata": {},
   "source": [
    "In Python, when you try to slice a list or an array with a stop index that's beyond the length of the ist/array, Python will return a slice up to the end of the list/array. It doesn't raise an IndexError."
   ]
  },
  {
   "cell_type": "code",
   "execution_count": 31,
   "id": "602093dd",
   "metadata": {},
   "outputs": [
    {
     "name": "stdout",
     "output_type": "stream",
     "text": [
      "[[7 4 7]\n",
      " [6 1 0]]\n"
     ]
    }
   ],
   "source": [
    "print(a2[1: 4, 1 : 4])"
   ]
  },
  {
   "cell_type": "markdown",
   "id": "ec07750f",
   "metadata": {},
   "source": [
    "The first 1:4 refers to the first dimension, which is row\n",
    "The second 1:4 refers to the second dimension, which is column"
   ]
  },
  {
   "cell_type": "code",
   "execution_count": 32,
   "id": "090273af",
   "metadata": {},
   "outputs": [
    {
     "name": "stdout",
     "output_type": "stream",
     "text": [
      "[]\n"
     ]
    }
   ],
   "source": [
    "print(a2[1: 4: -1, 1: 4: -1])"
   ]
  },
  {
   "cell_type": "markdown",
   "id": "aba9d880",
   "metadata": {},
   "source": [
    "When the step value is negative, the start index should be larger than the stop index for the slice to include any elements. If the start index is smaller than the stop index, the slice is empty because there's no way to get from the start to the stop by subtracting 1 from the index."
   ]
  },
  {
   "cell_type": "code",
   "execution_count": 33,
   "id": "9fda1ccf",
   "metadata": {
    "scrolled": true
   },
   "outputs": [
    {
     "name": "stdout",
     "output_type": "stream",
     "text": [
      "[[2 0 1 6 1]\n",
      " [0 7 4 7 4]\n",
      " [1 6 4 1 9]]\n"
     ]
    }
   ],
   "source": [
    "print(a2[:: -1, :: -1])"
   ]
  },
  {
   "cell_type": "markdown",
   "id": "17a63256",
   "metadata": {},
   "source": [
    "The difference between `np.arange(10)` and `np.arange(1, 11)` lies in the starting point and the end point of the created arrays:\n",
    "\n",
    "`np.arange(10)` generates an array from 0 up to (but not including) 10. So it generates 10 numbers starting from 0. The output will be `[0 1 2 3 4 5 6 7 8 9]`.\n",
    "\n",
    "`np.arange(1, 11)` generates an array from 1 up to (but not including) 11. So it generates 10 numbers starting from 1. The output will be `[1 2 3 4 5 6 7 8 9 10]`."
   ]
  },
  {
   "cell_type": "code",
   "execution_count": 38,
   "id": "6e0e21a4",
   "metadata": {},
   "outputs": [
    {
     "name": "stdout",
     "output_type": "stream",
     "text": [
      "a3 =  [1 2 3 4 5 6 7 8 9]\n",
      "a3.shape =  (9,)\n"
     ]
    }
   ],
   "source": [
    "a3 = np.arange(1, 10)\n",
    "print(\"a3 = \", a3)\n",
    "print(\"a3.shape = \", a3.shape)"
   ]
  },
  {
   "cell_type": "markdown",
   "id": "8fdf806e",
   "metadata": {},
   "source": [
    "`a3.shape = (9,)` means that `a3` is a one-dimensional array containing 9 elements"
   ]
  },
  {
   "cell_type": "code",
   "execution_count": 41,
   "id": "fc50a720",
   "metadata": {},
   "outputs": [
    {
     "name": "stdout",
     "output_type": "stream",
     "text": [
      "a4 = \n",
      " [[1 2 3]\n",
      " [4 5 6]\n",
      " [7 8 9]]\n",
      "a4.shape =  (3, 3)\n"
     ]
    }
   ],
   "source": [
    "a4 = a3.reshape((3, 3))\n",
    "print(\"a4 = \\n\", a4)\n",
    "print(\"a4.shape = \", a4.shape)"
   ]
  },
  {
   "cell_type": "code",
   "execution_count": 42,
   "id": "57edb9f4",
   "metadata": {},
   "outputs": [
    {
     "name": "stdout",
     "output_type": "stream",
     "text": [
      "a5 = \n",
      " [[1 2 3 4 5 6 7 8 9]]\n",
      "a5.shape =  (1, 9)\n"
     ]
    }
   ],
   "source": [
    "a5 = a3[np.newaxis, :]\n",
    "print(\"a5 = \\n\", a5)\n",
    "print(\"a5.shape = \", a5.shape)"
   ]
  },
  {
   "cell_type": "markdown",
   "id": "fe6be888",
   "metadata": {},
   "source": [
    "`a3.shape = (1, 9)` means that `a3` is a two-dimensional array with 1 row and 9 columns."
   ]
  },
  {
   "cell_type": "markdown",
   "id": "610857c6",
   "metadata": {},
   "source": [
    "`a3[np.newaxis, :]` adds a new axis to `a3`, making it a two-dimensional array. The new axis is added as the first dimension."
   ]
  },
  {
   "cell_type": "code",
   "execution_count": 43,
   "id": "c173c467",
   "metadata": {},
   "outputs": [
    {
     "name": "stdout",
     "output_type": "stream",
     "text": [
      "a6 = \n",
      " [[1]\n",
      " [2]\n",
      " [3]\n",
      " [4]\n",
      " [5]\n",
      " [6]\n",
      " [7]\n",
      " [8]\n",
      " [9]]\n",
      "a6.shape =  (9, 1)\n"
     ]
    }
   ],
   "source": [
    "a6 = a3[: , np.newaxis]\n",
    "print(\"a6 = \\n\", a6)\n",
    "print(\"a6.shape = \", a6.shape)"
   ]
  },
  {
   "cell_type": "markdown",
   "id": "53e8eb46",
   "metadata": {},
   "source": [
    "`a3[:, np.newaxis]` adds a new axis to `a3`, making it a two-dimensional array. The new axis is added as the second dimension."
   ]
  },
  {
   "cell_type": "code",
   "execution_count": 46,
   "id": "050bf10f",
   "metadata": {},
   "outputs": [
    {
     "name": "stdout",
     "output_type": "stream",
     "text": [
      "a7 =  [0 1 2 3 4]\n",
      "a8 =  [5 6 7 8 9]\n",
      "a9 =  [0 1 2 3 4 5 6 7 8 9]\n",
      "a10 =  [0 1 2 3 4 5 6 7 8 9 0 1 2 3 4 5 6 7 8 9]\n"
     ]
    }
   ],
   "source": [
    "a7 = np.arange(5)\n",
    "a8 = np.arange(5, 10)\n",
    "a9 = np.concatenate([a7, a8])\n",
    "a10 = np.concatenate([a7, a8, a9])\n",
    "print(\"a7 = \", a7)\n",
    "print(\"a8 = \", a8)\n",
    "print(\"a9 = \", a9)\n",
    "print(\"a10 = \", a10)"
   ]
  },
  {
   "cell_type": "code",
   "execution_count": 50,
   "id": "91da833a",
   "metadata": {},
   "outputs": [
    {
     "name": "stdout",
     "output_type": "stream",
     "text": [
      "a11 = \n",
      " [[ 0  1  2  3]\n",
      " [ 4  5  6  7]\n",
      " [ 8  9 10 11]]\n",
      "a12 = \n",
      " [[100 101 102 103]\n",
      " [104 105 106 107]\n",
      " [108 109 110 111]]\n",
      "a13 = \n",
      " [[  0   1   2   3]\n",
      " [  4   5   6   7]\n",
      " [  8   9  10  11]\n",
      " [100 101 102 103]\n",
      " [104 105 106 107]\n",
      " [108 109 110 111]]\n",
      "a14 = \n",
      " [[  0   1   2   3 100 101 102 103]\n",
      " [  4   5   6   7 104 105 106 107]\n",
      " [  8   9  10  11 108 109 110 111]]\n"
     ]
    }
   ],
   "source": [
    "a11 = np.arange(12).reshape((3, 4))\n",
    "print(\"a11 = \\n\", a11)\n",
    "\n",
    "a12 = np.arange(100, 112).reshape((3, 4))\n",
    "print(\"a12 = \\n\", a12)\n",
    "\n",
    "a13 = np.concatenate([a11, a12])\n",
    "print(\"a13 = \\n\", a13)\n",
    "\n",
    "a14 = np.concatenate([a11, a12], axis=1)\n",
    "print(\"a14 = \\n\", a14)"
   ]
  },
  {
   "cell_type": "code",
   "execution_count": 55,
   "id": "6f7df095",
   "metadata": {},
   "outputs": [
    {
     "name": "stdout",
     "output_type": "stream",
     "text": [
      "a18 = \n",
      " [[  0   1   2   3]\n",
      " [  4   5   6   7]\n",
      " [100 101 102 103]\n",
      " [104 105 106 107]\n",
      " [108 109 110 111]]\n",
      "a19 = \n",
      " [[100 101 102 103  10]\n",
      " [104 105 106 107  11]\n",
      " [108 109 110 111  12]]\n"
     ]
    }
   ],
   "source": [
    "a15 = np.arange(8).reshape((2, 4))\n",
    "a16 = np.arange(100, 112).reshape((3, 4))\n",
    "a17 = np.arange(10, 13).reshape((3, 1))\n",
    "\n",
    "a18 = np.vstack([a15, a16])\n",
    "print(\"a18 = \\n\", a18)\n",
    "a19 = np.hstack([a16, a17])\n",
    "print(\"a19 = \\n\", a19)"
   ]
  },
  {
   "cell_type": "code",
   "execution_count": 56,
   "id": "dae401de",
   "metadata": {},
   "outputs": [
    {
     "name": "stdout",
     "output_type": "stream",
     "text": [
      "a20 = \n",
      " [[  0   1   2   3]\n",
      " [  4   5   6   7]\n",
      " [100 101 102 103]]\n",
      "a21 = \n",
      " [[104 105 106 107]\n",
      " [108 109 110 111]]\n"
     ]
    }
   ],
   "source": [
    "a20, a21 = np.split(a18, [3])\n",
    "print(\"a20 = \\n\", a20)\n",
    "print(\"a21 = \\n\", a21)"
   ]
  },
  {
   "cell_type": "code",
   "execution_count": 57,
   "id": "22faf797",
   "metadata": {},
   "outputs": [
    {
     "name": "stdout",
     "output_type": "stream",
     "text": [
      "a22 = \n",
      " [[0 1 2 3]\n",
      " [4 5 6 7]]\n",
      "a23 = \n",
      " [[100 101 102 103]]\n",
      "a24 = \n",
      " [[104 105 106 107]\n",
      " [108 109 110 111]]\n"
     ]
    }
   ],
   "source": [
    "a22, a23, a24 = np.split(a18, [2, 3])\n",
    "print(\"a22 = \\n\", a22)\n",
    "print(\"a23 = \\n\", a23)\n",
    "print(\"a24 = \\n\", a24)"
   ]
  },
  {
   "cell_type": "code",
   "execution_count": 59,
   "id": "d18364db",
   "metadata": {},
   "outputs": [
    {
     "name": "stdout",
     "output_type": "stream",
     "text": [
      "a25 = \n",
      " [[100 101]\n",
      " [104 105]\n",
      " [108 109]]\n",
      "a26 = \n",
      " [[102]\n",
      " [106]\n",
      " [110]]\n",
      "a27 = \n",
      " [[103  10]\n",
      " [107  11]\n",
      " [111  12]]\n"
     ]
    }
   ],
   "source": [
    "a25, a26, a27 = np.split(a19, [2, 3], axis=1)\n",
    "print(\"a25 = \\n\", a25)\n",
    "print(\"a26 = \\n\", a26)\n",
    "print(\"a27 = \\n\", a27)"
   ]
  },
  {
   "cell_type": "code",
   "execution_count": 60,
   "id": "a7d42689",
   "metadata": {},
   "outputs": [
    {
     "name": "stdout",
     "output_type": "stream",
     "text": [
      "a28 = \n",
      " [[ 0  1  2  3  4]\n",
      " [ 5  6  7  8  9]\n",
      " [10 11 12 13 14]\n",
      " [15 16 17 18 19]]\n",
      "a29 = \n",
      " [[0 1 2 3 4]\n",
      " [5 6 7 8 9]]\n",
      "a30 = \n",
      " [[10 11 12 13 14]\n",
      " [15 16 17 18 19]]\n",
      "a31 = \n",
      " [[ 0  1]\n",
      " [ 5  6]\n",
      " [10 11]\n",
      " [15 16]]\n",
      "a32 = \n",
      " [[ 2  3]\n",
      " [ 7  8]\n",
      " [12 13]\n",
      " [17 18]]\n",
      "a33 = \n",
      " [[ 4]\n",
      " [ 9]\n",
      " [14]\n",
      " [19]]\n"
     ]
    }
   ],
   "source": [
    "a28 = np.arange(20).reshape(4, 5)\n",
    "print(\"a28 = \\n\", a28)\n",
    "\n",
    "a29, a30 = np.vsplit(a28, [2])\n",
    "print(\"a29 = \\n\", a29)\n",
    "print(\"a30 = \\n\", a30)\n",
    "\n",
    "a31, a32, a33 = np.hsplit(a28, [2, 4])\n",
    "print(\"a31 = \\n\", a31)\n",
    "print(\"a32 = \\n\", a32)\n",
    "print(\"a33 = \\n\", a33)\n"
   ]
  },
  {
   "cell_type": "markdown",
   "id": "8e084267",
   "metadata": {},
   "source": [
    "# Mathematical Functions"
   ]
  },
  {
   "cell_type": "markdown",
   "id": "02c40d1a",
   "metadata": {},
   "source": [
    "`np.add`\n",
    "\n",
    "`np.subtract`\n",
    "\n",
    "`np.negative`\n",
    "\n",
    "`np.multiply`\n",
    "\n",
    "`np.divide`\n",
    "\n",
    "`np.floor_divide` -- \\\\\\\\\n",
    "\n",
    "`np.power`\n",
    "\n",
    "`np.mod`\n",
    "\n",
    "`absolute(abs)`\n",
    "\n",
    "---\n",
    "`np.equal`\n",
    "\n",
    "`np.not_equal`\n",
    "\n",
    "`np.less`\n",
    "\n",
    "`np.less_equal`\n",
    "\n",
    "`np.greater`\n",
    "\n",
    "`np.greater_equal`"
   ]
  },
  {
   "cell_type": "code",
   "execution_count": 3,
   "id": "297ac0e2",
   "metadata": {},
   "outputs": [
    {
     "name": "stdout",
     "output_type": "stream",
     "text": [
      "a34 = \n",
      " [[ 0  1  2  3  4]\n",
      " [ 5  6  7  8  9]\n",
      " [10 11 12 13 14]\n",
      " [15 16 17 18 19]]\n"
     ]
    }
   ],
   "source": [
    "a34 = np.arange(20).reshape([4, 5])\n",
    "print(\"a34 = \\n\", a34)"
   ]
  },
  {
   "cell_type": "code",
   "execution_count": 4,
   "id": "5ecf12d8",
   "metadata": {},
   "outputs": [
    {
     "name": "stdout",
     "output_type": "stream",
     "text": [
      "a34 + 3 = \n",
      " [[ 3  4  5  6  7]\n",
      " [ 8  9 10 11 12]\n",
      " [13 14 15 16 17]\n",
      " [18 19 20 21 22]]\n"
     ]
    }
   ],
   "source": [
    "print(\"a34 + 3 = \\n\", a34 + 3)"
   ]
  },
  {
   "cell_type": "code",
   "execution_count": 5,
   "id": "d05f9d5c",
   "metadata": {},
   "outputs": [
    {
     "name": "stdout",
     "output_type": "stream",
     "text": [
      "a34 // 5 = \n",
      " [[0 0 0 0 0]\n",
      " [1 1 1 1 1]\n",
      " [2 2 2 2 2]\n",
      " [3 3 3 3 3]]\n"
     ]
    }
   ],
   "source": [
    "print(\"a34 // 5 = \\n\", a34 // 5)"
   ]
  },
  {
   "cell_type": "code",
   "execution_count": 7,
   "id": "fb60e24e",
   "metadata": {},
   "outputs": [
    {
     "name": "stdout",
     "output_type": "stream",
     "text": [
      "a34 ** 2 = \n",
      " [[  0   1   4   9  16]\n",
      " [ 25  36  49  64  81]\n",
      " [100 121 144 169 196]\n",
      " [225 256 289 324 361]]\n"
     ]
    }
   ],
   "source": [
    "print(\"a34 ** 2 = \\n\", a34 ** 2)"
   ]
  },
  {
   "cell_type": "code",
   "execution_count": 8,
   "id": "f22afe00",
   "metadata": {},
   "outputs": [
    {
     "name": "stdout",
     "output_type": "stream",
     "text": [
      "-a34 = \n",
      " [[  0  -1  -2  -3  -4]\n",
      " [ -5  -6  -7  -8  -9]\n",
      " [-10 -11 -12 -13 -14]\n",
      " [-15 -16 -17 -18 -19]]\n"
     ]
    }
   ],
   "source": [
    "print(\"-a34 = \\n\", -a34)"
   ]
  },
  {
   "cell_type": "code",
   "execution_count": 9,
   "id": "f9c0ad32",
   "metadata": {},
   "outputs": [
    {
     "name": "stdout",
     "output_type": "stream",
     "text": [
      "a34 % 3 = \n",
      " [[0 1 2 0 1]\n",
      " [2 0 1 2 0]\n",
      " [1 2 0 1 2]\n",
      " [0 1 2 0 1]]\n"
     ]
    }
   ],
   "source": [
    "print(\"a34 % 3 = \\n\", a34 % 3)"
   ]
  },
  {
   "cell_type": "markdown",
   "id": "81f11455",
   "metadata": {},
   "source": [
    "### Trigonometric functions"
   ]
  },
  {
   "cell_type": "code",
   "execution_count": 10,
   "id": "735b99ad",
   "metadata": {},
   "outputs": [
    {
     "name": "stdout",
     "output_type": "stream",
     "text": [
      "thera = [0.         0.78539816 1.57079633 2.35619449 3.14159265]\n"
     ]
    }
   ],
   "source": [
    "theta = np.linspace(0, np.pi, 5)\n",
    "print(f\"thera = {theta}\")"
   ]
  },
  {
   "cell_type": "markdown",
   "id": "36372565",
   "metadata": {},
   "source": [
    "\n",
    "The linspace function in NumPy generates a sequence of numbers. It is often used for creating a specific range of values between a start and an end point.\n",
    "\n",
    "`np.linspace(0, np.pi, 5)` will return an array of 5 evenly spaced numbers over the range from 0 to π."
   ]
  },
  {
   "cell_type": "code",
   "execution_count": 11,
   "id": "5ea15e7f",
   "metadata": {},
   "outputs": [
    {
     "name": "stdout",
     "output_type": "stream",
     "text": [
      "sin(theta) = [0.00000000e+00 7.07106781e-01 1.00000000e+00 7.07106781e-01\n",
      " 1.22464680e-16]\n"
     ]
    }
   ],
   "source": [
    "print(f\"sin(theta) = {np.sin(theta)}\")"
   ]
  },
  {
   "cell_type": "code",
   "execution_count": 12,
   "id": "9e4c644f",
   "metadata": {},
   "outputs": [
    {
     "name": "stdout",
     "output_type": "stream",
     "text": [
      "cos(theta) = [ 1.00000000e+00  7.07106781e-01  6.12323400e-17 -7.07106781e-01\n",
      " -1.00000000e+00]\n"
     ]
    }
   ],
   "source": [
    "print(f\"cos(theta) = {np.cos(theta)}\")"
   ]
  },
  {
   "cell_type": "code",
   "execution_count": 13,
   "id": "daabc8cf",
   "metadata": {},
   "outputs": [
    {
     "name": "stdout",
     "output_type": "stream",
     "text": [
      "tan(theta) = [ 0.00000000e+00  1.00000000e+00  1.63312394e+16 -1.00000000e+00\n",
      " -1.22464680e-16]\n"
     ]
    }
   ],
   "source": [
    "print(f\"tan(theta) = {np.tan(theta)}\")"
   ]
  },
  {
   "cell_type": "code",
   "execution_count": 14,
   "id": "f75bee95",
   "metadata": {},
   "outputs": [
    {
     "name": "stdout",
     "output_type": "stream",
     "text": [
      "acrsin(theta) = [0.         0.90333911        nan        nan        nan]\n"
     ]
    },
    {
     "name": "stderr",
     "output_type": "stream",
     "text": [
      "C:\\Users\\GANGZHAO\\AppData\\Local\\Temp\\ipykernel_25936\\284008034.py:1: RuntimeWarning: invalid value encountered in arcsin\n",
      "  print(f\"acrsin(theta) = {np.arcsin(theta)}\")\n"
     ]
    }
   ],
   "source": [
    "print(f\"acrsin(theta) = {np.arcsin(theta)}\")"
   ]
  },
  {
   "cell_type": "markdown",
   "id": "bccf2efb",
   "metadata": {},
   "source": [
    "The numpy function `arcsin` calculates the inverse sine of all values in the input array. The inverse sine is defined only for values in the range from -1 to 1, inclusive.\n",
    "\n",
    "`np.linspace(0, np.pi, 5)`, it generates an array of 5 numbers between 0 and π (approximately 3.14). However, only the first two numbers are within the range from -1 to 1. The other three numbers are greater than 1, so they are out of the domain of the arcsine function.\n",
    "\n",
    "That's why we're getting nan (not a number) for those values and a RuntimeWarning about an invalid value encountered in arcsin.\n",
    "\n",
    "To avoid this, we should ensure that the input to `np.arcsin` is always in the range from -1 to 1. For example, use `np.linspace(-1, 1, 5)` instead of `np.linspace(0, np.pi, 5)`."
   ]
  },
  {
   "cell_type": "code",
   "execution_count": 15,
   "id": "efc9c9b5",
   "metadata": {},
   "outputs": [
    {
     "name": "stdout",
     "output_type": "stream",
     "text": [
      "acrcos(theta) = [1.57079633 0.66745722        nan        nan        nan]\n"
     ]
    },
    {
     "name": "stderr",
     "output_type": "stream",
     "text": [
      "C:\\Users\\GANGZHAO\\AppData\\Local\\Temp\\ipykernel_25936\\2674371923.py:1: RuntimeWarning: invalid value encountered in arccos\n",
      "  print(f\"acrcos(theta) = {np.arccos(theta)}\")\n"
     ]
    }
   ],
   "source": [
    "print(f\"acrcos(theta) = {np.arccos(theta)}\")"
   ]
  },
  {
   "cell_type": "code",
   "execution_count": 16,
   "id": "ddc27eef",
   "metadata": {},
   "outputs": [
    {
     "name": "stdout",
     "output_type": "stream",
     "text": [
      "acrtan(theta) = [0.         0.66577375 1.00388482 1.16942282 1.26262726]\n"
     ]
    }
   ],
   "source": [
    "print(f\"acrtan(theta) = {np.arctan(theta)}\")"
   ]
  },
  {
   "cell_type": "markdown",
   "id": "a76ee65f",
   "metadata": {},
   "source": [
    "### Comparison"
   ]
  },
  {
   "cell_type": "code",
   "execution_count": 23,
   "id": "52b215a6",
   "metadata": {},
   "outputs": [
    {
     "name": "stdout",
     "output_type": "stream",
     "text": [
      "a35 = \n",
      "[[ 1 85 50 32 71]\n",
      " [53 36 71 61 11]]\n"
     ]
    }
   ],
   "source": [
    "a35 = np.random.randint(100, size=(2, 5))\n",
    "print(f\"a35 = \\n{a35}\")"
   ]
  },
  {
   "cell_type": "code",
   "execution_count": 25,
   "id": "8d25289b",
   "metadata": {},
   "outputs": [
    {
     "name": "stdout",
     "output_type": "stream",
     "text": [
      "a35 < 50: \n",
      "[[ True False False  True False]\n",
      " [False  True False False  True]]\n"
     ]
    }
   ],
   "source": [
    "print(f\"a35 < 50: \\n{a35 < 50}\")"
   ]
  },
  {
   "cell_type": "code",
   "execution_count": 26,
   "id": "1a2f92ba",
   "metadata": {},
   "outputs": [
    {
     "name": "stdout",
     "output_type": "stream",
     "text": [
      "a35 == 50: \n",
      "[[False False  True False False]\n",
      " [False False False False False]]\n"
     ]
    }
   ],
   "source": [
    "print(f\"a35 == 50: \\n{a35 == 50}\")"
   ]
  },
  {
   "cell_type": "markdown",
   "id": "c34daf61",
   "metadata": {},
   "source": [
    "### Mask\n",
    "\"Masking\" refers to the practice of selecting or modifying parts of an array based on some condition.\n",
    "\n",
    "\n",
    "This is often done by creating a \"mask\" array of Boolean values (True/False) that is the same shape as the original array. Each value in the mask corresponds to an element in the original array and indicates whether that element should be selected (True) or not (False)."
   ]
  },
  {
   "cell_type": "code",
   "execution_count": 27,
   "id": "3ded91dc",
   "metadata": {},
   "outputs": [
    {
     "name": "stdout",
     "output_type": "stream",
     "text": [
      "a36 = \n",
      "[[12 68 94 52 58]\n",
      " [52 74 42 77 52]\n",
      " [33 73  5 61 14]]\n"
     ]
    }
   ],
   "source": [
    "a36 = np.random.randint(100, size=(3, 5))\n",
    "print(f\"a36 = \\n{a36}\")"
   ]
  },
  {
   "cell_type": "code",
   "execution_count": 28,
   "id": "37d39eea",
   "metadata": {},
   "outputs": [
    {
     "name": "stdout",
     "output_type": "stream",
     "text": [
      "a37 = \n",
      "[12 42 33  5 14]\n"
     ]
    }
   ],
   "source": [
    "a37 = a36[a36 < 50]\n",
    "print(f\"a37 = \\n{a37}\")"
   ]
  },
  {
   "cell_type": "code",
   "execution_count": 29,
   "id": "de14d2c8",
   "metadata": {},
   "outputs": [
    {
     "name": "stdout",
     "output_type": "stream",
     "text": [
      "a37.shape = (5,)\n"
     ]
    }
   ],
   "source": [
    "print(f\"a37.shape = {a37.shape}\")"
   ]
  },
  {
   "cell_type": "markdown",
   "id": "d9acd5f2",
   "metadata": {},
   "source": [
    "### Aggregation\n",
    "\n",
    "`np.sum`\n",
    "\n",
    "`np.prod`\n",
    "\n",
    "`np.mean`\n",
    "\n",
    "`np.std`\n",
    "\n",
    "`np.var`\n",
    "\n",
    "`np.min`\n",
    "\n",
    "`np.max`\n",
    "\n",
    "`np.argmin`\n",
    "\n",
    "`np.argmax`\n",
    "\n",
    "`np.median`\n",
    "\n",
    "`np.any`\n",
    "\n",
    "`np.all`"
   ]
  },
  {
   "cell_type": "code",
   "execution_count": 7,
   "id": "4cd15296",
   "metadata": {},
   "outputs": [
    {
     "name": "stdout",
     "output_type": "stream",
     "text": [
      "a38 = \n",
      "[ 0  1  2  3  4  5  6  7  8  9 10 11 12 13 14 15 16 17 18 19 20 21 22 23\n",
      " 24 25 26 27 28 29 30 31 32 33 34 35 36 37 38 39 40 41 42 43 44 45 46 47\n",
      " 48 49 50 51 52 53 54 55 56 57 58 59 60 61 62 63 64 65 66 67 68 69 70 71\n",
      " 72 73 74 75 76 77 78 79 80 81 82 83 84 85 86 87 88 89 90 91 92 93 94 95\n",
      " 96 97 98 99]\n",
      "\n",
      "a39 = 4950\n"
     ]
    }
   ],
   "source": [
    "a38 = np.arange(100)\n",
    "print(f\"a38 = \\n{a38}\")\n",
    "\n",
    "print()\n",
    "\n",
    "a39 = np.add.reduce(a38)\n",
    "print(f\"a39 = {a39}\")"
   ]
  },
  {
   "cell_type": "markdown",
   "id": "131f827e",
   "metadata": {},
   "source": [
    "`np.add.reduce()` is a NumPy function that performs a specific operation, which is the reduction of elements along a given axis of an array using addition. The `reduce()` function repeatedly applies the addition operation to the elements of the array until a single result is obtained."
   ]
  },
  {
   "cell_type": "code",
   "execution_count": 9,
   "id": "8edb1447",
   "metadata": {},
   "outputs": [
    {
     "name": "stdout",
     "output_type": "stream",
     "text": [
      "a40 = \n",
      "[0.79115335 0.03218142 0.49296618 0.17871509 0.03340619 0.86638351\n",
      " 0.98732242 0.16329993 0.00448954 0.28555872 0.62178995 0.44729744\n",
      " 0.75652866 0.07803022 0.40465178 0.66084044 0.95579867 0.86990226\n",
      " 0.29354483 0.91733098]\n",
      "Min value:  0.0044895446826099805\n",
      "Min value:  0.0044895446826099805\n",
      "Min value:  0.0044895446826099805\n"
     ]
    }
   ],
   "source": [
    "# Compare the 3 min values below\n",
    "a40 = np.random.rand(20)\n",
    "print(f\"a40 = \\n{a40}\")\n",
    "\n",
    "m1 = min(a40)\n",
    "print(\"Min value: \", m1)\n",
    "\n",
    "m2 = np.min(a40)\n",
    "print(\"Min value: \", m2)\n",
    "\n",
    "m3 = a40.min()\n",
    "print(\"Min value: \", m3)"
   ]
  },
  {
   "cell_type": "markdown",
   "id": "bacfda90",
   "metadata": {},
   "source": [
    "`m1 = min(a40)`:\n",
    "\n",
    "`min()` is a built-in Python function that returns the minimum value from an iterable, such as a list or an array.\n",
    "\n",
    "In this case, `min(a40)` finds the minimum value among the elements of the array `a40`.\n",
    "The result is a single scalar value representing the minimum value.\n",
    "It is important to note that `min()` is a general Python function and does not specifically belong to NumPy.\n",
    "\n",
    "`m2 = np.min(a40)`:\n",
    "\n",
    "`np.min()` is a NumPy function that specifically calculates the minimum value of an array.\n",
    "In this case, `np.min(a40)` finds the minimum value among the elements of the array `a40`.\n",
    "The result is a single scalar value representing the minimum value.\n",
    "The NumPy function `np.min()` is designed to work efficiently with NumPy arrays and has certain additional capabilities compared to the built-in `min()` function.\n",
    "\n",
    "`m3 = a40.min()`:\n",
    "\n",
    "`a40.min()` is an instance method of a NumPy array object that performs the same operation as `np.min(a40)`.\n",
    "It is called directly on the array `a40`.\n",
    "The result is a single scalar value representing the minimum value.\n",
    "Using `a40.min()` is a convenient way to directly access the `min()` function from the array object."
   ]
  },
  {
   "cell_type": "markdown",
   "id": "5a32c0ec",
   "metadata": {},
   "source": [
    "### sort vs. argsort"
   ]
  },
  {
   "cell_type": "code",
   "execution_count": 13,
   "id": "11452adb",
   "metadata": {},
   "outputs": [
    {
     "name": "stdout",
     "output_type": "stream",
     "text": [
      "Before sorting x1 =  [14  4 11  3 15  8 12  2 11  5]\n",
      "After sorting x1 =  [14  4 11  3 15  8 12  2 11  5]\n",
      "After sorting y1 =  [ 2  3  4  5  8 11 11 12 14 15]\n",
      "After modifying sorce data and sorting x1 =  [ 2  3  4  5  8 11 11 12 14 15]\n"
     ]
    }
   ],
   "source": [
    "x1 = np.random.randint(20, size=10)\n",
    "print(\"Before sorting x1 = \", x1)\n",
    "\n",
    "# Not modify sorce data\n",
    "y1 = np.sort(x1)\n",
    "print(\"After sorting x1 = \", x1)\n",
    "print(\"After sorting y1 = \", y1)\n",
    "\n",
    "# Modify sorce data\n",
    "x1.sort()\n",
    "print(\"After modifying sorce data and sorting x1 = \", x1)"
   ]
  },
  {
   "cell_type": "code",
   "execution_count": 14,
   "id": "7718831a",
   "metadata": {},
   "outputs": [
    {
     "name": "stdout",
     "output_type": "stream",
     "text": [
      "Before sorting x2 =  [10 19  5 18  3 19 15 12  0 10]\n",
      "After argsort y2 =  [8 4 2 0 9 7 6 3 1 5]\n"
     ]
    }
   ],
   "source": [
    "x2 = np.random.randint(20, size=10)\n",
    "print(\"Before sorting x2 = \", x2)\n",
    "\n",
    "# Using argsort\n",
    "y2 = np.argsort(x2)\n",
    "print(\"After argsort y2 = \", y2)"
   ]
  },
  {
   "cell_type": "markdown",
   "id": "cda6a9d8",
   "metadata": {},
   "source": [
    "### Array Broadcasting\n",
    "\n",
    "Broadcasting is a powerful feature in NumPy that allows arrays of different shapes to be used together in arithmetic operations. It provides a convenient way to perform element-wise operations between arrays without the need for explicit looping or expanding the dimensions of the arrays.\n",
    "\n",
    "In NumPy, for two arrays to be compatible for broadcasting, the following rules must be satisfied:\n",
    "\n",
    "* Dimensions of the arrays are compatible:  \n",
    "  The arrays should have the same number of dimensions (or one of them should have fewer dimensions).  \n",
    "  The size of each dimension in the arrays should either match or one of them should have a size of 1.\n",
    "\n",
    "  \n",
    "* Arrays with size 1 in a particular dimension are stretched or \"broadcast\" to match the size of the other array along that dimension.\n",
    "\n",
    "\n",
    "When performing operations involving arrays with compatible shapes, broadcasting automatically aligns the arrays and applies the operation element-wise. The smaller array is effectively repeated along the dimensions where broadcasting occurs to match the shape of the larger array."
   ]
  },
  {
   "cell_type": "code",
   "execution_count": 18,
   "id": "ecbbc8b3",
   "metadata": {},
   "outputs": [
    {
     "name": "stdout",
     "output_type": "stream",
     "text": [
      "a41 = \n",
      " [[ 0  1  2  3  4]\n",
      " [ 5  6  7  8  9]\n",
      " [10 11 12 13 14]]\n",
      "a41.shape =  (3, 5)\n",
      "a42 = \n",
      " [0 1 2 3 4]\n",
      "a42.shape =  (5,)\n",
      "a43 = \n",
      " [[ 0  2  4  6  8]\n",
      " [ 5  7  9 11 13]\n",
      " [10 12 14 16 18]]\n",
      "a43.shape =  (3, 5)\n"
     ]
    }
   ],
   "source": [
    "# a41 is 2-d\n",
    "a41 = np.arange(15).reshape((3, 5))\n",
    "print(\"a41 = \\n\", a41)\n",
    "print(\"a41.shape = \", a41.shape)\n",
    "# a42 is 1-d\n",
    "a42 = np.arange(5)\n",
    "print(\"a42 = \\n\", a42)\n",
    "print(\"a42.shape = \", a42.shape)\n",
    "a43 = a41 + a42\n",
    "print(\"a43 = \\n\", a43)\n",
    "print(\"a43.shape = \", a43.shape)"
   ]
  },
  {
   "cell_type": "code",
   "execution_count": 19,
   "id": "7f628afc",
   "metadata": {},
   "outputs": [
    {
     "name": "stdout",
     "output_type": "stream",
     "text": [
      "a44 = \n",
      " [[0]\n",
      " [1]\n",
      " [2]\n",
      " [3]\n",
      " [4]]\n",
      "a44.shape =  (5, 1)\n",
      "a45 = \n",
      " [0 1 2 3 4]\n",
      "a45.shape =  (5,)\n",
      "a46 = \n",
      " [[0 1 2 3 4]\n",
      " [1 2 3 4 5]\n",
      " [2 3 4 5 6]\n",
      " [3 4 5 6 7]\n",
      " [4 5 6 7 8]]\n",
      "a46.shape =  (5, 5)\n"
     ]
    }
   ],
   "source": [
    "# a41 is 2-d\n",
    "a44 = np.arange(5).reshape((5, 1))\n",
    "print(\"a44 = \\n\", a44)\n",
    "print(\"a44.shape = \", a44.shape)\n",
    "# a45 is 1-d\n",
    "a45 = np.arange(5)\n",
    "print(\"a45 = \\n\", a45)\n",
    "print(\"a45.shape = \", a45.shape)\n",
    "a46 = a44 + a45\n",
    "print(\"a46 = \\n\", a46)\n",
    "print(\"a46.shape = \", a46.shape)"
   ]
  },
  {
   "cell_type": "markdown",
   "id": "37a7be0d",
   "metadata": {},
   "source": [
    "So this is how broadcasting work\n",
    "[0]  \n",
    "[1]  \n",
    "[2]  \n",
    "[3]  \n",
    "[4]  \n",
    "copy 5 times along the 1 axis in a44 since it has a size of 1 on 1 axis.\n",
    "\n",
    "[0 1 2 3 4] copy 5 times along the 0 axis in a45 since it has a size of 1 on 0 axis."
   ]
  },
  {
   "cell_type": "code",
   "execution_count": 21,
   "id": "5c0a30c8",
   "metadata": {},
   "outputs": [
    {
     "name": "stdout",
     "output_type": "stream",
     "text": [
      "a47 = \n",
      " [[ 0  1  2  3  4]\n",
      " [ 5  6  7  8  9]\n",
      " [10 11 12 13 14]]\n",
      "a47.shape =  (3, 5)\n",
      "a48 = \n",
      " [0 1 2]\n",
      "a48.shape =  (3,)\n"
     ]
    },
    {
     "ename": "ValueError",
     "evalue": "operands could not be broadcast together with shapes (3,5) (3,) ",
     "output_type": "error",
     "traceback": [
      "\u001b[1;31m---------------------------------------------------------------------------\u001b[0m",
      "\u001b[1;31mValueError\u001b[0m                                Traceback (most recent call last)",
      "Cell \u001b[1;32mIn[21], line 8\u001b[0m\n\u001b[0;32m      6\u001b[0m \u001b[38;5;28mprint\u001b[39m(\u001b[38;5;124m\"\u001b[39m\u001b[38;5;124ma48 = \u001b[39m\u001b[38;5;130;01m\\n\u001b[39;00m\u001b[38;5;124m\"\u001b[39m, a48)\n\u001b[0;32m      7\u001b[0m \u001b[38;5;28mprint\u001b[39m(\u001b[38;5;124m\"\u001b[39m\u001b[38;5;124ma48.shape = \u001b[39m\u001b[38;5;124m\"\u001b[39m, a48\u001b[38;5;241m.\u001b[39mshape)\n\u001b[1;32m----> 8\u001b[0m a49 \u001b[38;5;241m=\u001b[39m \u001b[43ma47\u001b[49m\u001b[43m \u001b[49m\u001b[38;5;241;43m+\u001b[39;49m\u001b[43m \u001b[49m\u001b[43ma48\u001b[49m\n\u001b[0;32m      9\u001b[0m \u001b[38;5;28mprint\u001b[39m(\u001b[38;5;124m\"\u001b[39m\u001b[38;5;124ma49 = \u001b[39m\u001b[38;5;130;01m\\n\u001b[39;00m\u001b[38;5;124m\"\u001b[39m, a49)\n\u001b[0;32m     10\u001b[0m \u001b[38;5;28mprint\u001b[39m(\u001b[38;5;124m\"\u001b[39m\u001b[38;5;124ma49.shape = \u001b[39m\u001b[38;5;124m\"\u001b[39m, a49\u001b[38;5;241m.\u001b[39mshape)\n",
      "\u001b[1;31mValueError\u001b[0m: operands could not be broadcast together with shapes (3,5) (3,) "
     ]
    }
   ],
   "source": [
    "# Unable to broadcast\n",
    "# a47 and a48 are not compatible even afterr broadcasting\n",
    "a47 = np.arange(15).reshape((3, 5))\n",
    "print(\"a47 = \\n\", a47)\n",
    "print(\"a47.shape = \", a47.shape)\n",
    "a48 = np.arange(3)\n",
    "print(\"a48 = \\n\", a48)\n",
    "print(\"a48.shape = \", a48.shape)\n",
    "a49 = a47 + a48\n",
    "print(\"a49 = \\n\", a49)\n",
    "print(\"a49.shape = \", a49.shape)"
   ]
  },
  {
   "cell_type": "code",
   "execution_count": null,
   "id": "4cf963ba",
   "metadata": {},
   "outputs": [],
   "source": []
  }
 ],
 "metadata": {
  "kernelspec": {
   "display_name": "Python 3 (ipykernel)",
   "language": "python",
   "name": "python3"
  },
  "language_info": {
   "codemirror_mode": {
    "name": "ipython",
    "version": 3
   },
   "file_extension": ".py",
   "mimetype": "text/x-python",
   "name": "python",
   "nbconvert_exporter": "python",
   "pygments_lexer": "ipython3",
   "version": "3.10.11"
  }
 },
 "nbformat": 4,
 "nbformat_minor": 5
}
